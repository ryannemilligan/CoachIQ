{
  "nbformat": 4,
  "nbformat_minor": 0,
  "metadata": {
    "colab": {
      "provenance": [],
      "authorship_tag": "ABX9TyMFQHo1Oj3yoQjWiVFVVYmf",
      "include_colab_link": true
    },
    "kernelspec": {
      "name": "python3",
      "display_name": "Python 3"
    },
    "language_info": {
      "name": "python"
    }
  },
  "cells": [
    {
      "cell_type": "markdown",
      "metadata": {
        "id": "view-in-github",
        "colab_type": "text"
      },
      "source": [
        "<a href=\"https://colab.research.google.com/github/ryannemilligan/CoachIQ/blob/main/CoachIQ.ipynb\" target=\"_parent\"><img src=\"https://colab.research.google.com/assets/colab-badge.svg\" alt=\"Open In Colab\"/></a>"
      ]
    },
    {
      "cell_type": "code",
      "source": [
        "!pip install streamlit pandas matplotlib pyngrok --quiet\n",
        "\n",
        "# Set your ngrok token here (replace with your real token)\n",
        "!ngrok authtoken 2yKbsxLwBgekG8OYrGuVT9YHeUc_3pcapnhWp4zy4pABfCfNQ\n",
        "\n",
        "from pyngrok import ngrok\n",
        "\n",
        "# Use integer port number, not string\n",
        "public_url = ngrok.connect(8501)\n",
        "print(f\"Streamlit app will be publicly available at: {public_url}\")\n",
        "\n"
      ],
      "metadata": {
        "colab": {
          "base_uri": "https://localhost:8080/"
        },
        "id": "EJ3-zsMdgLc9",
        "outputId": "3279aa5a-2451-454d-b4e4-1024a8aa8d31"
      },
      "execution_count": 8,
      "outputs": [
        {
          "output_type": "stream",
          "name": "stdout",
          "text": [
            "Authtoken saved to configuration file: /root/.config/ngrok/ngrok.yml\n",
            "Streamlit app will be publicly available at: NgrokTunnel: \"https://8f49-35-237-84-96.ngrok-free.app\" -> \"http://localhost:8501\"\n"
          ]
        }
      ]
    }
  ]
}